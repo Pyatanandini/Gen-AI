{
 "cells": [
  {
   "cell_type": "code",
   "execution_count": 17,
   "id": "22aef253",
   "metadata": {},
   "outputs": [
    {
     "name": "stdout",
     "output_type": "stream",
     "text": [
      "1 \n",
      "2 3 \n",
      "4 5 6 \n",
      "7 8 9 10 \n"
     ]
    }
   ],
   "source": [
    "#lab-25\n",
    "#97\n",
    "n=4\n",
    "num=1\n",
    "for i in range(1,n+1):\n",
    "    for j in range(i):\n",
    "        print(num, end=\" \")\n",
    "        num+=1\n",
    "    print()"
   ]
  },
  {
   "cell_type": "code",
   "execution_count": 19,
   "id": "7093b554",
   "metadata": {},
   "outputs": [
    {
     "name": "stdout",
     "output_type": "stream",
     "text": [
      "1 \n",
      "1 2 \n",
      "1 2 3 \n",
      "1 2 3 4 \n",
      "1 2 3 4 5 \n"
     ]
    }
   ],
   "source": [
    "#98\n",
    "for i in range(1,6):\n",
    "    for j in range(1, i+1):\n",
    "        print(j, end=\" \")\n",
    "    print()"
   ]
  },
  {
   "cell_type": "code",
   "execution_count": 20,
   "id": "d9332090",
   "metadata": {},
   "outputs": [
    {
     "name": "stdout",
     "output_type": "stream",
     "text": [
      "1 \n",
      "2 2 \n",
      "3 3 3 \n",
      "4 4 4 4 \n",
      "5 5 5 5 5 \n"
     ]
    }
   ],
   "source": [
    "#99\n",
    "for i in range(1,6):\n",
    "    for j in range(1, i+1):\n",
    "        print(i, end=\" \")\n",
    "    print() "
   ]
  },
  {
   "cell_type": "code",
   "execution_count": 24,
   "id": "711cfba2",
   "metadata": {},
   "outputs": [
    {
     "name": "stdout",
     "output_type": "stream",
     "text": [
      "1\n",
      "1 1\n",
      "1 2 1\n",
      "1 2 3 1\n",
      "1 2 3 4 1\n",
      "1 2 3 4 5 1\n"
     ]
    }
   ],
   "source": [
    "#lab-26\n",
    "#100\n",
    "for i in range(1,7):\n",
    "    for j in range(1, i+0):\n",
    "        print(j, end=\" \")\n",
    "    print(1)"
   ]
  },
  {
   "cell_type": "code",
   "execution_count": 29,
   "id": "6f529a31",
   "metadata": {},
   "outputs": [
    {
     "name": "stdout",
     "output_type": "stream",
     "text": [
      "1 2 3 4 5 \n",
      "1 2 3 4 \n",
      "1 2 3 \n",
      "1 2 \n",
      "1 \n"
     ]
    }
   ],
   "source": [
    "#101\n",
    "for i in range(1,6):\n",
    "    for j in range(1,7-i):\n",
    "        print(j, end=\" \")\n",
    "    print()"
   ]
  },
  {
   "cell_type": "code",
   "execution_count": 30,
   "id": "1cfdea07",
   "metadata": {},
   "outputs": [
    {
     "name": "stdout",
     "output_type": "stream",
     "text": [
      "1 1 1 1 1 \n",
      "2 2 2 2 \n",
      "3 3 3 \n",
      "4 4 \n",
      "5 \n"
     ]
    }
   ],
   "source": [
    "#102\n",
    "for i in range(1,6):\n",
    "    for j in range(1,7-i):\n",
    "        print(i, end=\" \")\n",
    "    print()"
   ]
  },
  {
   "cell_type": "code",
   "execution_count": 37,
   "id": "fde71a3c",
   "metadata": {},
   "outputs": [
    {
     "name": "stdout",
     "output_type": "stream",
     "text": [
      "5 5 5 5 5 \n",
      "4 4 4 4 \n",
      "3 3 3 \n",
      "2 2 \n",
      "1 \n"
     ]
    }
   ],
   "source": [
    "#lab-27\n",
    "#103\n",
    "for i in range(5, 0 , -1):\n",
    "    for j in range(i+1,1,-1):\n",
    "        print(i, end=\" \")\n",
    "    print()"
   ]
  },
  {
   "cell_type": "code",
   "execution_count": 74,
   "id": "604a506e",
   "metadata": {},
   "outputs": [
    {
     "name": "stdout",
     "output_type": "stream",
     "text": [
      "5 4 3 2 1 \n",
      "5 4 3 2 \n",
      "5 4 3 \n",
      "5 4 \n",
      "5 \n"
     ]
    }
   ],
   "source": [
    "#104\n",
    "for i in range(5, 0 , -1):\n",
    "    for j in range(5, 5-i, -1):\n",
    "        print(j, end=\" \")\n",
    "    print()"
   ]
  },
  {
   "cell_type": "code",
   "execution_count": 66,
   "id": "2cbe8b8a",
   "metadata": {},
   "outputs": [
    {
     "name": "stdout",
     "output_type": "stream",
     "text": [
      "5 \n",
      "5 4 \n",
      "5 4 3 \n",
      "5 4 3 2 \n",
      "5 4 3 2 1 \n"
     ]
    }
   ],
   "source": [
    "#105\n",
    "for i in range(5, 0 , -1):\n",
    "    for j in range(5, i-1, -1):\n",
    "        print(j, end=\" \")\n",
    "    print()"
   ]
  },
  {
   "cell_type": "code",
   "execution_count": 82,
   "id": "7d140431",
   "metadata": {},
   "outputs": [
    {
     "name": "stdout",
     "output_type": "stream",
     "text": [
      "   1 1 1 1 1 \n",
      "     2 2 2 2 \n",
      "       3 3 3 \n",
      "         4 4 \n",
      "           5 \n"
     ]
    }
   ],
   "source": [
    "#lab-28\n",
    "# #106\n",
    "for i in range(1,6):\n",
    "    print(i*\"  \",end=\" \")\n",
    "    for j in range(1, 7-i):\n",
    "        print(i, end=\" \")\n",
    "    print()"
   ]
  },
  {
   "cell_type": "code",
   "execution_count": null,
   "id": "c0d47cbc",
   "metadata": {},
   "outputs": [
    {
     "name": "stdout",
     "output_type": "stream",
     "text": [
      "   1 2 3 4 5 \n",
      "     1 2 3 4 \n",
      "       1 2 3 \n",
      "         1 2 \n",
      "           1 \n"
     ]
    }
   ],
   "source": [
    "#107\n",
    "for i in range(1,6):\n",
    "    print((i)*\"  \",end=\" \")\n",
    "    for j in range(1,7-i):\n",
    "        print(j, end=\" \")\n",
    "    print()"
   ]
  },
  {
   "cell_type": "code",
   "execution_count": 171,
   "id": "8014896a",
   "metadata": {},
   "outputs": [
    {
     "name": "stdout",
     "output_type": "stream",
     "text": [
      "1 2 3 4 5 \n",
      "  2 3 4 5 \n",
      "    3 4 5 \n",
      "      4 5 \n",
      "        5 \n"
     ]
    }
   ],
   "source": [
    "#108\n",
    "for i in range(1, 6):\n",
    "    print(\"  \" * (i - 1), end=\"\")\n",
    "    for j in range(i, 6):\n",
    "        print(j, end=\" \")\n",
    "    print()\n"
   ]
  },
  {
   "cell_type": "code",
   "execution_count": null,
   "id": "65f78810",
   "metadata": {},
   "outputs": [
    {
     "name": "stdout",
     "output_type": "stream",
     "text": [
      "           1 \n",
      "         1 2 \n",
      "       1 2 3 \n",
      "     1 2 3 4 \n",
      "   1 2 3 4 5 \n"
     ]
    }
   ],
   "source": [
    "#lab-29\n",
    "#109\n",
    "for i in range(1, 6):\n",
    "    print((6-i)*\"  \",end=\" \")\n",
    "    for j in range(1,i+1):\n",
    "        print(j, end=\" \")\n",
    "    print()\n"
   ]
  },
  {
   "cell_type": "code",
   "execution_count": 205,
   "id": "baa20933",
   "metadata": {},
   "outputs": [
    {
     "name": "stdout",
     "output_type": "stream",
     "text": [
      "1 2 3 4 5 \n",
      "  2 3 4 5 \n",
      "    3 4 5 \n",
      "      4 5 \n",
      "        5 \n"
     ]
    }
   ],
   "source": [
    "#110\n",
    "for i in range(1, 6):\n",
    "    print(\"  \" * (i - 1), end=\"\")\n",
    "    for j in range(i, 6):\n",
    "        print(j, end=\" \")\n",
    "    print()"
   ]
  },
  {
   "cell_type": "code",
   "execution_count": 263,
   "id": "29b1e9a9",
   "metadata": {},
   "outputs": [
    {
     "name": "stdout",
     "output_type": "stream",
     "text": [
      "5 4 3 2 1 \n",
      "  5 4 3 2 \n",
      "    5 4 3 \n",
      "      5 4 \n",
      "        5 \n"
     ]
    }
   ],
   "source": [
    "#111\n",
    "for i in range(0, 5):\n",
    "    print(\"  \" * i, end=\"\")\n",
    "    for j in range(5, i, -1):\n",
    "        print(j, end=\" \")\n",
    "    print()\n"
   ]
  },
  {
   "cell_type": "code",
   "execution_count": 273,
   "id": "973de236",
   "metadata": {},
   "outputs": [
    {
     "name": "stdout",
     "output_type": "stream",
     "text": [
      "        5 \n",
      "      5 4 \n",
      "    5 4 3 \n",
      "  5 4 3 2 \n",
      "5 4 3 2 1 \n"
     ]
    }
   ],
   "source": [
    "#112\n",
    "for i in range(5, 0, -1):\n",
    "    print(\"  \" * (i-1), end=\"\")\n",
    "    for j in range(6-i):\n",
    "        print(5-j, end=\" \")\n",
    "    print()\n"
   ]
  },
  {
   "cell_type": "code",
   "execution_count": 296,
   "id": "f1874131",
   "metadata": {},
   "outputs": [
    {
     "name": "stdout",
     "output_type": "stream",
     "text": [
      "        5 \n",
      "      4 5 \n",
      "    3 4 5 \n",
      "  2 3 4 5 \n",
      "1 2 3 4 5 \n"
     ]
    }
   ],
   "source": [
    "#lab-30\n",
    "#114\n",
    "for i in range(5, 0 ,-1):\n",
    "    print(\"  \" * (i-1), end=\"\")\n",
    "    for j in range(i,6):\n",
    "        print(j, end=\" \")\n",
    "    print()"
   ]
  }
 ],
 "metadata": {
  "kernelspec": {
   "display_name": "Python 3",
   "language": "python",
   "name": "python3"
  },
  "language_info": {
   "codemirror_mode": {
    "name": "ipython",
    "version": 3
   },
   "file_extension": ".py",
   "mimetype": "text/x-python",
   "name": "python",
   "nbconvert_exporter": "python",
   "pygments_lexer": "ipython3",
   "version": "3.10.8"
  }
 },
 "nbformat": 4,
 "nbformat_minor": 5
}
